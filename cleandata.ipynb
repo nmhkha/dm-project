# cleaning
import pandas as pd
import re
from datetime import datetime

# Đọc dữ liệu bẩn
df = pd.read_csv("dirty_sample_500_worse_plus.csv")

# === Hàm xử lý ===
def clean_text(val):
    if pd.isna(val):
        return val
    val = str(val).strip()
    val = re.sub(r"[!@#$%^&*?]+", "", val)       # bỏ ký tự đặc biệt
    val = re.sub(r"\s+", " ", val)               # bỏ khoảng trắng thừa
    return val

def clean_price(val):
    if pd.isna(val):
        return val
    val = re.sub(r"[^0-9]", "", str(val))
    return int(val) if val.isdigit() else None

def clean_date(val):
    if pd.isna(val):
        return val
    for fmt in ("%d/%m/%Y", "%Y-%m-%d"):
        try:
            return datetime.strptime(val, fmt).strftime("%d/%m/%Y")
        except:
            pass
    return None  # nếu sai định dạng

# === Áp dụng cleaning ===
for col in df.columns:
    if "Giá" in col:
        df[col] = df[col].apply(clean_price)
    elif "ngày" in col.lower():
        df[col] = df[col].apply(clean_date)
    else:
        df[col] = df[col].apply(clean_text)

# Bỏ trùng
df = df.drop_duplicates()

# Xuất file mới
df.to_csv("cleaned_data.csv", index=False, encoding="utf-8-sig")
print("✅ Đã làm sạch dữ liệu và lưu vào 'cleaned_data.csv'")
