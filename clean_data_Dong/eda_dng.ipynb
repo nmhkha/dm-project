{
 "cells": [
  {
   "cell_type": "markdown",
   "id": "7aca6a0b",
   "metadata": {},
   "source": [
    "LIBRARIES"
   ]
  },
  {
   "cell_type": "code",
   "execution_count": 109,
   "id": "d1fbdc49",
   "metadata": {},
   "outputs": [],
   "source": [
    "import pandas as pd\n",
    "import numpy as np\n",
    "import matplotlib.pyplot as plt\n",
    "import seaborn as sb\n",
    "%matplotlib inline\n",
    "import plotly as py\n",
    "import cufflinks as cf"
   ]
  },
  {
   "cell_type": "markdown",
   "id": "da9cd897",
   "metadata": {},
   "source": [
    "READ FILE"
   ]
  },
  {
   "cell_type": "code",
   "execution_count": 110,
   "id": "9df6a0d3",
   "metadata": {},
   "outputs": [],
   "source": [
    "df = pd.read_csv('dirty_sample_500.csv')\n"
   ]
  },
  {
   "cell_type": "code",
   "execution_count": 111,
   "id": "e1832b39",
   "metadata": {},
   "outputs": [
    {
     "name": "stdout",
     "output_type": "stream",
     "text": [
      "<class 'pandas.core.frame.DataFrame'>\n",
      "RangeIndex: 500 entries, 0 to 499\n",
      "Data columns (total 14 columns):\n",
      " #   Column                   Non-Null Count  Dtype  \n",
      "---  ------                   --------------  -----  \n",
      " 0   UDI                      500 non-null    int64  \n",
      " 1   Product ID               500 non-null    object \n",
      " 2   Type                     500 non-null    object \n",
      " 3   Air temperature [K]      480 non-null    float64\n",
      " 4   Process temperature [K]  500 non-null    float64\n",
      " 5   Rotational speed [rpm]   500 non-null    int64  \n",
      " 6   Torque [Nm]              480 non-null    float64\n",
      " 7   Tool wear [min]          500 non-null    int64  \n",
      " 8   Machine failure          500 non-null    int64  \n",
      " 9   TWF                      500 non-null    int64  \n",
      " 10  HDF                      500 non-null    int64  \n",
      " 11  PWF                      500 non-null    int64  \n",
      " 12  OSF                      500 non-null    int64  \n",
      " 13  RNF                      500 non-null    int64  \n",
      "dtypes: float64(3), int64(9), object(2)\n",
      "memory usage: 54.8+ KB\n"
     ]
    }
   ],
   "source": [
    "df.info()"
   ]
  },
  {
   "cell_type": "code",
   "execution_count": 112,
   "id": "b68351f0",
   "metadata": {},
   "outputs": [
    {
     "name": "stdout",
     "output_type": "stream",
     "text": [
      "<class 'pandas.core.frame.DataFrame'>\n",
      "RangeIndex: 500 entries, 0 to 499\n",
      "Data columns (total 14 columns):\n",
      " #   Column                   Non-Null Count  Dtype  \n",
      "---  ------                   --------------  -----  \n",
      " 0   UDI                      500 non-null    int64  \n",
      " 1   Product ID               500 non-null    object \n",
      " 2   Type                     500 non-null    object \n",
      " 3   Air temperature [K]      480 non-null    float64\n",
      " 4   Process temperature [K]  500 non-null    float64\n",
      " 5   Rotational speed [rpm]   500 non-null    int64  \n",
      " 6   Torque [Nm]              480 non-null    float64\n",
      " 7   Tool wear [min]          500 non-null    int64  \n",
      " 8   Machine failure          500 non-null    int64  \n",
      " 9   TWF                      500 non-null    int64  \n",
      " 10  HDF                      500 non-null    int64  \n",
      " 11  PWF                      500 non-null    int64  \n",
      " 12  OSF                      500 non-null    int64  \n",
      " 13  RNF                      500 non-null    int64  \n",
      "dtypes: float64(3), int64(9), object(2)\n",
      "memory usage: 54.8+ KB\n",
      "None\n",
      "    UDI Product ID Type  Air temperature [K]  Process temperature [K]  \\\n",
      "0  6253     L53432    L                300.8                    310.3   \n",
      "1  4685     M19544    M                303.6                    311.8   \n",
      "2  1732     M16591    M                298.3                    307.9   \n",
      "3  4743     L51922    L                303.3                    311.3   \n",
      "4  4522     L51701    L                302.4                    310.4   \n",
      "\n",
      "   Rotational speed [rpm]  Torque [Nm]  Tool wear [min]  Machine failure  TWF  \\\n",
      "0                    1538         36.1              198                0    0   \n",
      "1                    1421         44.8              101                1    0   \n",
      "2                    1485         42.0              117                0    0   \n",
      "3                    1592         33.7               14                0    0   \n",
      "4                    1865         23.9              129                0    0   \n",
      "\n",
      "   HDF  PWF  OSF  RNF  \n",
      "0    0    0    0    0  \n",
      "1    0    0    0    0  \n",
      "2    0    0    0    0  \n",
      "3    0    0    0    0  \n",
      "4    0    0    0    0  \n",
      "                UDI Product ID Type  Air temperature [K]  \\\n",
      "count    500.000000        500  500           480.000000   \n",
      "unique          NaN        500    8                  NaN   \n",
      "top             NaN     L54148    L                  NaN   \n",
      "freq            NaN          1  320                  NaN   \n",
      "mean    4974.786000        NaN  NaN           305.151042   \n",
      "std     2871.641071        NaN  NaN            68.195242   \n",
      "min        4.000000        NaN  NaN          -301.800000   \n",
      "25%     2605.750000        NaN  NaN           298.500000   \n",
      "50%     5076.000000        NaN  NaN           300.050000   \n",
      "75%     7513.500000        NaN  NaN           301.600000   \n",
      "max     9931.000000        NaN  NaN           912.600000   \n",
      "\n",
      "        Process temperature [K]  Rotational speed [rpm]  Torque [Nm]  \\\n",
      "count                500.000000              500.000000   480.000000   \n",
      "unique                      NaN                     NaN          NaN   \n",
      "top                         NaN                     NaN          NaN   \n",
      "freq                        NaN                     NaN          NaN   \n",
      "mean                 310.094200             1529.862000    39.969583   \n",
      "std                    1.430048              159.219146    10.094236   \n",
      "min                  306.200000             1251.000000     2.600000   \n",
      "25%                  308.900000             1433.000000    34.175000   \n",
      "50%                  310.100000             1495.000000    40.450000   \n",
      "75%                  311.200000             1593.000000    47.025000   \n",
      "max                  313.500000             2549.000000    68.600000   \n",
      "\n",
      "        Tool wear [min]  Machine failure         TWF         HDF         PWF  \\\n",
      "count        500.000000       500.000000  500.000000  500.000000  500.000000   \n",
      "unique              NaN              NaN         NaN         NaN         NaN   \n",
      "top                 NaN              NaN         NaN         NaN         NaN   \n",
      "freq                NaN              NaN         NaN         NaN         NaN   \n",
      "mean         105.394000         0.034000    0.008000    0.012000    0.008000   \n",
      "std           64.966515         0.181411    0.089173    0.108994    0.089173   \n",
      "min            0.000000         0.000000    0.000000    0.000000    0.000000   \n",
      "25%           47.750000         0.000000    0.000000    0.000000    0.000000   \n",
      "50%          103.000000         0.000000    0.000000    0.000000    0.000000   \n",
      "75%          160.000000         0.000000    0.000000    0.000000    0.000000   \n",
      "max          231.000000         1.000000    1.000000    1.000000    1.000000   \n",
      "\n",
      "               OSF    RNF  \n",
      "count   500.000000  500.0  \n",
      "unique         NaN    NaN  \n",
      "top            NaN    NaN  \n",
      "freq           NaN    NaN  \n",
      "mean      0.006000    0.0  \n",
      "std       0.077304    0.0  \n",
      "min       0.000000    0.0  \n",
      "25%       0.000000    0.0  \n",
      "50%       0.000000    0.0  \n",
      "75%       0.000000    0.0  \n",
      "max       1.000000    0.0  \n"
     ]
    }
   ],
   "source": [
    "print(df.info())\n",
    "print(df.head())\n",
    "print(df.describe(include='all'))"
   ]
  },
  {
   "cell_type": "markdown",
   "id": "ac95aca2",
   "metadata": {},
   "source": [
    "DATA CLEANING"
   ]
  },
  {
   "cell_type": "code",
   "execution_count": 113,
   "id": "eaf2a5de",
   "metadata": {},
   "outputs": [
    {
     "data": {
      "text/html": [
       "<div>\n",
       "<style scoped>\n",
       "    .dataframe tbody tr th:only-of-type {\n",
       "        vertical-align: middle;\n",
       "    }\n",
       "\n",
       "    .dataframe tbody tr th {\n",
       "        vertical-align: top;\n",
       "    }\n",
       "\n",
       "    .dataframe thead th {\n",
       "        text-align: right;\n",
       "    }\n",
       "</style>\n",
       "<table border=\"1\" class=\"dataframe\">\n",
       "  <thead>\n",
       "    <tr style=\"text-align: right;\">\n",
       "      <th></th>\n",
       "      <th>UDI</th>\n",
       "      <th>Product ID</th>\n",
       "      <th>Type</th>\n",
       "      <th>Air temperature [K]</th>\n",
       "      <th>Process temperature [K]</th>\n",
       "      <th>Rotational speed [rpm]</th>\n",
       "      <th>Torque [Nm]</th>\n",
       "      <th>Tool wear [min]</th>\n",
       "      <th>Machine failure</th>\n",
       "      <th>TWF</th>\n",
       "      <th>HDF</th>\n",
       "      <th>PWF</th>\n",
       "      <th>OSF</th>\n",
       "      <th>RNF</th>\n",
       "    </tr>\n",
       "  </thead>\n",
       "  <tbody>\n",
       "    <tr>\n",
       "      <th>50</th>\n",
       "      <td>3724</td>\n",
       "      <td>L50903</td>\n",
       "      <td>L</td>\n",
       "      <td>302.3</td>\n",
       "      <td>311.2</td>\n",
       "      <td>1758</td>\n",
       "      <td>24.4</td>\n",
       "      <td>68</td>\n",
       "      <td>0</td>\n",
       "      <td>0</td>\n",
       "      <td>0</td>\n",
       "      <td>0</td>\n",
       "      <td>0</td>\n",
       "      <td>0</td>\n",
       "    </tr>\n",
       "    <tr>\n",
       "      <th>79</th>\n",
       "      <td>2021</td>\n",
       "      <td>H31434</td>\n",
       "      <td>H</td>\n",
       "      <td>298.7</td>\n",
       "      <td>308.4</td>\n",
       "      <td>1560</td>\n",
       "      <td>33.3</td>\n",
       "      <td>53</td>\n",
       "      <td>0</td>\n",
       "      <td>0</td>\n",
       "      <td>0</td>\n",
       "      <td>0</td>\n",
       "      <td>0</td>\n",
       "      <td>0</td>\n",
       "    </tr>\n",
       "    <tr>\n",
       "      <th>207</th>\n",
       "      <td>519</td>\n",
       "      <td>L47698</td>\n",
       "      <td>L</td>\n",
       "      <td>297.6</td>\n",
       "      <td>309.5</td>\n",
       "      <td>1924</td>\n",
       "      <td>20.6</td>\n",
       "      <td>37</td>\n",
       "      <td>0</td>\n",
       "      <td>0</td>\n",
       "      <td>0</td>\n",
       "      <td>0</td>\n",
       "      <td>0</td>\n",
       "      <td>0</td>\n",
       "    </tr>\n",
       "    <tr>\n",
       "      <th>130</th>\n",
       "      <td>6293</td>\n",
       "      <td>L53472</td>\n",
       "      <td>L</td>\n",
       "      <td>301.0</td>\n",
       "      <td>310.4</td>\n",
       "      <td>1614</td>\n",
       "      <td>31.6</td>\n",
       "      <td>84</td>\n",
       "      <td>0</td>\n",
       "      <td>0</td>\n",
       "      <td>0</td>\n",
       "      <td>0</td>\n",
       "      <td>0</td>\n",
       "      <td>0</td>\n",
       "    </tr>\n",
       "    <tr>\n",
       "      <th>291</th>\n",
       "      <td>7170</td>\n",
       "      <td>L54349</td>\n",
       "      <td>L</td>\n",
       "      <td>300.3</td>\n",
       "      <td>310.2</td>\n",
       "      <td>1492</td>\n",
       "      <td>52.3</td>\n",
       "      <td>2</td>\n",
       "      <td>0</td>\n",
       "      <td>0</td>\n",
       "      <td>0</td>\n",
       "      <td>0</td>\n",
       "      <td>0</td>\n",
       "      <td>0</td>\n",
       "    </tr>\n",
       "  </tbody>\n",
       "</table>\n",
       "</div>"
      ],
      "text/plain": [
       "      UDI Product ID Type  Air temperature [K]  Process temperature [K]  \\\n",
       "50   3724     L50903    L                302.3                    311.2   \n",
       "79   2021     H31434    H                298.7                    308.4   \n",
       "207   519     L47698    L                297.6                    309.5   \n",
       "130  6293     L53472    L                301.0                    310.4   \n",
       "291  7170     L54349    L                300.3                    310.2   \n",
       "\n",
       "     Rotational speed [rpm]  Torque [Nm]  Tool wear [min]  Machine failure  \\\n",
       "50                     1758         24.4               68                0   \n",
       "79                     1560         33.3               53                0   \n",
       "207                    1924         20.6               37                0   \n",
       "130                    1614         31.6               84                0   \n",
       "291                    1492         52.3                2                0   \n",
       "\n",
       "     TWF  HDF  PWF  OSF  RNF  \n",
       "50     0    0    0    0    0  \n",
       "79     0    0    0    0    0  \n",
       "207    0    0    0    0    0  \n",
       "130    0    0    0    0    0  \n",
       "291    0    0    0    0    0  "
      ]
     },
     "execution_count": 113,
     "metadata": {},
     "output_type": "execute_result"
    }
   ],
   "source": [
    "df.sample(5)"
   ]
  },
  {
   "cell_type": "code",
   "execution_count": 114,
   "id": "62893a4e",
   "metadata": {},
   "outputs": [
    {
     "name": "stdout",
     "output_type": "stream",
     "text": [
      "UDI                         0\n",
      "Product ID                  0\n",
      "Type                        0\n",
      "Air temperature [K]        20\n",
      "Process temperature [K]     0\n",
      "Rotational speed [rpm]      0\n",
      "Torque [Nm]                20\n",
      "Tool wear [min]             0\n",
      "Machine failure             0\n",
      "TWF                         0\n",
      "HDF                         0\n",
      "PWF                         0\n",
      "OSF                         0\n",
      "RNF                         0\n",
      "dtype: int64\n"
     ]
    }
   ],
   "source": [
    "print(df.isnull().sum())"
   ]
  },
  {
   "cell_type": "code",
   "execution_count": 115,
   "id": "39ef044f",
   "metadata": {},
   "outputs": [
    {
     "name": "stdout",
     "output_type": "stream",
     "text": [
      "      UDI Product ID Type  Air temperature [K]  Process temperature [K]  \\\n",
      "0    6253     L53432    L                300.8                    310.3   \n",
      "1    4685     M19544    M                303.6                    311.8   \n",
      "2    1732     M16591    M                298.3                    307.9   \n",
      "3    4743     L51922    L                303.3                    311.3   \n",
      "4    4522     L51701    L                302.4                    310.4   \n",
      "..    ...        ...  ...                  ...                      ...   \n",
      "494  1632     L48811    L                298.0                    308.0   \n",
      "496  7206     L54385    L                299.8                    309.7   \n",
      "497  2523     M17382    M                298.8                    308.7   \n",
      "498  2216     H31629    H                299.7                    309.2   \n",
      "499  6969     L54148    L                300.9                    311.2   \n",
      "\n",
      "     Rotational speed [rpm]  Torque [Nm]  Tool wear [min]  Machine failure  \\\n",
      "0                      1538         36.1              198                0   \n",
      "1                      1421         44.8              101                1   \n",
      "2                      1485         42.0              117                0   \n",
      "3                      1592         33.7               14                0   \n",
      "4                      1865         23.9              129                0   \n",
      "..                      ...          ...              ...              ...   \n",
      "494                    1433         39.2               87                0   \n",
      "496                    1483         39.6               87                0   \n",
      "497                    1543         38.2               44                0   \n",
      "498                    1468         49.6              132                0   \n",
      "499                    1789         25.5              114                0   \n",
      "\n",
      "     TWF  HDF  PWF  OSF  RNF  \n",
      "0      0    0    0    0    0  \n",
      "1      0    0    0    0    0  \n",
      "2      0    0    0    0    0  \n",
      "3      0    0    0    0    0  \n",
      "4      0    0    0    0    0  \n",
      "..   ...  ...  ...  ...  ...  \n",
      "494    0    0    0    0    0  \n",
      "496    0    0    0    0    0  \n",
      "497    0    0    0    0    0  \n",
      "498    0    0    0    0    0  \n",
      "499    0    0    0    0    0  \n",
      "\n",
      "[480 rows x 14 columns]\n"
     ]
    }
   ],
   "source": [
    "drop_missing_value = df.dropna()\n",
    "print(drop_missing_value)\n"
   ]
  },
  {
   "cell_type": "code",
   "execution_count": 116,
   "id": "168389e9",
   "metadata": {},
   "outputs": [],
   "source": [
    "df_new = drop_missing_value #lưu vào bản dữ liệu mới sau khi xử lý missing data"
   ]
  },
  {
   "cell_type": "code",
   "execution_count": 117,
   "id": "56cfcd8c",
   "metadata": {},
   "outputs": [
    {
     "name": "stdout",
     "output_type": "stream",
     "text": [
      "<class 'pandas.core.frame.DataFrame'>\n",
      "Index: 480 entries, 0 to 499\n",
      "Data columns (total 14 columns):\n",
      " #   Column                   Non-Null Count  Dtype  \n",
      "---  ------                   --------------  -----  \n",
      " 0   UDI                      480 non-null    int64  \n",
      " 1   Product ID               480 non-null    object \n",
      " 2   Type                     480 non-null    object \n",
      " 3   Air temperature [K]      480 non-null    float64\n",
      " 4   Process temperature [K]  480 non-null    float64\n",
      " 5   Rotational speed [rpm]   480 non-null    int64  \n",
      " 6   Torque [Nm]              480 non-null    float64\n",
      " 7   Tool wear [min]          480 non-null    int64  \n",
      " 8   Machine failure          480 non-null    int64  \n",
      " 9   TWF                      480 non-null    int64  \n",
      " 10  HDF                      480 non-null    int64  \n",
      " 11  PWF                      480 non-null    int64  \n",
      " 12  OSF                      480 non-null    int64  \n",
      " 13  RNF                      480 non-null    int64  \n",
      "dtypes: float64(3), int64(9), object(2)\n",
      "memory usage: 56.2+ KB\n"
     ]
    }
   ],
   "source": [
    "df_new.info()"
   ]
  },
  {
   "cell_type": "code",
   "execution_count": 118,
   "id": "1473ec1a",
   "metadata": {},
   "outputs": [
    {
     "name": "stdout",
     "output_type": "stream",
     "text": [
      "UDI                        0\n",
      "Product ID                 0\n",
      "Type                       0\n",
      "Air temperature [K]        0\n",
      "Process temperature [K]    0\n",
      "Rotational speed [rpm]     0\n",
      "Torque [Nm]                0\n",
      "Tool wear [min]            0\n",
      "Machine failure            0\n",
      "TWF                        0\n",
      "HDF                        0\n",
      "PWF                        0\n",
      "OSF                        0\n",
      "RNF                        0\n",
      "dtype: int64\n"
     ]
    }
   ],
   "source": [
    "print(df_new.isnull().sum())"
   ]
  },
  {
   "cell_type": "code",
   "execution_count": 119,
   "id": "bd0fc092",
   "metadata": {},
   "outputs": [],
   "source": [
    "df_new.to_csv(\"cleaned.csv\",index=False, encoding=\"utf-8-sig\")"
   ]
  },
  {
   "cell_type": "code",
   "execution_count": 120,
   "id": "9fac17f5",
   "metadata": {},
   "outputs": [],
   "source": [
    "df = pd.read_csv(\"cleaned.csv\")"
   ]
  },
  {
   "cell_type": "code",
   "execution_count": 121,
   "id": "76478403",
   "metadata": {},
   "outputs": [
    {
     "name": "stdout",
     "output_type": "stream",
     "text": [
      "<class 'pandas.core.frame.DataFrame'>\n",
      "RangeIndex: 480 entries, 0 to 479\n",
      "Data columns (total 14 columns):\n",
      " #   Column                   Non-Null Count  Dtype  \n",
      "---  ------                   --------------  -----  \n",
      " 0   UDI                      480 non-null    int64  \n",
      " 1   Product ID               480 non-null    object \n",
      " 2   Type                     480 non-null    object \n",
      " 3   Air temperature [K]      480 non-null    float64\n",
      " 4   Process temperature [K]  480 non-null    float64\n",
      " 5   Rotational speed [rpm]   480 non-null    int64  \n",
      " 6   Torque [Nm]              480 non-null    float64\n",
      " 7   Tool wear [min]          480 non-null    int64  \n",
      " 8   Machine failure          480 non-null    int64  \n",
      " 9   TWF                      480 non-null    int64  \n",
      " 10  HDF                      480 non-null    int64  \n",
      " 11  PWF                      480 non-null    int64  \n",
      " 12  OSF                      480 non-null    int64  \n",
      " 13  RNF                      480 non-null    int64  \n",
      "dtypes: float64(3), int64(9), object(2)\n",
      "memory usage: 52.6+ KB\n"
     ]
    }
   ],
   "source": [
    "df.info()"
   ]
  },
  {
   "cell_type": "code",
   "execution_count": 122,
   "id": "3710e765",
   "metadata": {},
   "outputs": [
    {
     "data": {
      "text/plain": [
       "array(['L', 'M', 'H', 'L ', '??', 'h', 'm', 'HIGH'], dtype=object)"
      ]
     },
     "execution_count": 122,
     "metadata": {},
     "output_type": "execute_result"
    }
   ],
   "source": [
    "df['Type'].unique()"
   ]
  },
  {
   "cell_type": "code",
   "execution_count": 123,
   "id": "0113c63d",
   "metadata": {},
   "outputs": [
    {
     "data": {
      "text/plain": [
       "Type\n",
       "L       307\n",
       "M       127\n",
       "H        41\n",
       "L         1\n",
       "??        1\n",
       "h         1\n",
       "m         1\n",
       "HIGH      1\n",
       "Name: count, dtype: int64"
      ]
     },
     "execution_count": 123,
     "metadata": {},
     "output_type": "execute_result"
    }
   ],
   "source": [
    "df['Type'].value_counts()"
   ]
  },
  {
   "cell_type": "code",
   "execution_count": 124,
   "id": "1a843370",
   "metadata": {},
   "outputs": [
    {
     "name": "stdout",
     "output_type": "stream",
     "text": [
      "<class 'pandas.core.frame.DataFrame'>\n",
      "RangeIndex: 477 entries, 0 to 476\n",
      "Data columns (total 14 columns):\n",
      " #   Column                   Non-Null Count  Dtype  \n",
      "---  ------                   --------------  -----  \n",
      " 0   UDI                      477 non-null    int64  \n",
      " 1   Product ID               477 non-null    object \n",
      " 2   Type                     477 non-null    object \n",
      " 3   Air temperature [K]      477 non-null    float64\n",
      " 4   Process temperature [K]  477 non-null    float64\n",
      " 5   Rotational speed [rpm]   477 non-null    int64  \n",
      " 6   Torque [Nm]              477 non-null    float64\n",
      " 7   Tool wear [min]          477 non-null    int64  \n",
      " 8   Machine failure          477 non-null    int64  \n",
      " 9   TWF                      477 non-null    int64  \n",
      " 10  HDF                      477 non-null    int64  \n",
      " 11  PWF                      477 non-null    int64  \n",
      " 12  OSF                      477 non-null    int64  \n",
      " 13  RNF                      477 non-null    int64  \n",
      "dtypes: float64(3), int64(9), object(2)\n",
      "memory usage: 52.3+ KB\n"
     ]
    }
   ],
   "source": [
    "df['Type'] = df['Type'].replace({'h' : 'H', 'm' : 'M', 'l' : 'L'}) # chuyển chữ thường thành chữ in hoa\n",
    "\n",
    "#Giữ lại các giá trij hợp lệ  L, M, H\n",
    "valid_type = ['L', 'M', 'H']\n",
    "df = df[df['Type'].isin(valid_type)].reset_index(drop=True)\n",
    "df.to_csv('cleaned.csv')\n",
    "df.info()"
   ]
  },
  {
   "cell_type": "code",
   "execution_count": 125,
   "id": "a9ebe54c",
   "metadata": {},
   "outputs": [
    {
     "data": {
      "text/plain": [
       "array(['L', 'M', 'H'], dtype=object)"
      ]
     },
     "execution_count": 125,
     "metadata": {},
     "output_type": "execute_result"
    }
   ],
   "source": [
    "df['Type'].unique()"
   ]
  },
  {
   "cell_type": "code",
   "execution_count": 126,
   "id": "2524cc44",
   "metadata": {},
   "outputs": [
    {
     "name": "stdout",
     "output_type": "stream",
     "text": [
      "True\n"
     ]
    },
    {
     "data": {
      "text/plain": [
       "np.int64(1)"
      ]
     },
     "execution_count": 126,
     "metadata": {},
     "output_type": "execute_result"
    }
   ],
   "source": [
    "print((df['Air temperature [K]'] < 0).any()) #kiểm tra có giá trị âm không\n",
    "(df['Air temperature [K]'] < 0).sum() # Tổng giá trị âm có trong cột\n",
    "\n",
    "\n",
    "\n"
   ]
  },
  {
   "cell_type": "code",
   "execution_count": 127,
   "id": "53b4526f",
   "metadata": {},
   "outputs": [
    {
     "name": "stdout",
     "output_type": "stream",
     "text": [
      "False\n"
     ]
    }
   ],
   "source": [
    "print((df['Process temperature [K]'] < 0).any())"
   ]
  },
  {
   "cell_type": "code",
   "execution_count": 128,
   "id": "f35f0f13",
   "metadata": {},
   "outputs": [
    {
     "name": "stdout",
     "output_type": "stream",
     "text": [
      "False\n"
     ]
    }
   ],
   "source": [
    "print((df['Rotational speed [rpm]'] < 0).any())"
   ]
  },
  {
   "cell_type": "code",
   "execution_count": 129,
   "id": "8758471e",
   "metadata": {},
   "outputs": [
    {
     "name": "stdout",
     "output_type": "stream",
     "text": [
      "False\n"
     ]
    }
   ],
   "source": [
    "print((df['Torque [Nm]'] < 0).any())"
   ]
  },
  {
   "cell_type": "code",
   "execution_count": 130,
   "id": "7b9404d0",
   "metadata": {},
   "outputs": [],
   "source": [
    "cols_abs = ['Air temperature [K]', 'Process temperature [K]', \n",
    "            'Rotational speed [rpm]', 'Torque [Nm]', 'Tool wear [min]']\n",
    "df[cols_abs] = df[cols_abs].abs() #loại bỏ dấu âm\n",
    "df.to_csv('cleaned.csv')\n",
    "df = pd.read_csv('cleaned.csv')\n"
   ]
  },
  {
   "cell_type": "code",
   "execution_count": 131,
   "id": "24da1e4f",
   "metadata": {},
   "outputs": [
    {
     "name": "stdout",
     "output_type": "stream",
     "text": [
      "False\n"
     ]
    }
   ],
   "source": [
    "print((df['Air temperature [K]'] < 0).any())"
   ]
  },
  {
   "cell_type": "code",
   "execution_count": 132,
   "id": "8dd0ab18",
   "metadata": {},
   "outputs": [
    {
     "data": {
      "text/plain": [
       "array([310.3, 311.8, 307.9, 311.3, 310.4, 309.9, 309.7, 312.7, 309.6,\n",
       "       309.2, 311.7, 313. , 311. , 310.9, 308.3, 310.8, 309.3, 308.5,\n",
       "       311.2, 308.7, 307.5, 310.7, 308.9, 309.5, 311.9, 308.2, 311.4,\n",
       "       310.5, 309.1, 312.2, 310.6, 312.9, 309.8, 310. , 309. , 308.6,\n",
       "       308.4, 308.8, 307.8, 306.2, 312.6, 311.5, 313.1, 312.4, 311.6,\n",
       "       307.7, 308.1, 308. , 310.1, 312.3, 310.2, 313.2, 309.4, 312. ,\n",
       "       307.1, 311.1, 312.5, 306.5, 312.8, 306.4, 307.4, 312.1, 307.6,\n",
       "       313.4, 313.5])"
      ]
     },
     "execution_count": 132,
     "metadata": {},
     "output_type": "execute_result"
    }
   ],
   "source": [
    "df['Process temperature [K]'].unique()"
   ]
  },
  {
   "cell_type": "code",
   "execution_count": 133,
   "id": "486a1348",
   "metadata": {},
   "outputs": [
    {
     "data": {
      "text/plain": [
       "array([300.8, 303.6, 298.3, 303.3, 302.4, 300.5, 297.7, 303.7, 300. ,\n",
       "       299.7, 300.3, 302. , 300.6, 297.8, 299.6, 298.8, 299.2, 303.1,\n",
       "       298.9, 298.5, 299.1, 301.7, 297.5, 299.8, 303. , 303.8, 298.6,\n",
       "       301.6, 302.5, 298. , 302.3, 298.1, 300.1, 297.3, 301. , 300.9,\n",
       "       299. , 303.4, 297. , 301.8, 912.6, 300.7, 297.6, 298.7, 295.5,\n",
       "       301.3, 300.4, 299.9, 298.2, 296.8, 297.9, 300.2, 304. , 299.5,\n",
       "       297.4, 302.1, 296.6, 297.1, 296.9, 301.9, 301.4, 301.1, 302.6,\n",
       "       303.5, 303.9, 302.2, 299.3, 296.1, 295.8, 299.4, 297.2, 298.4,\n",
       "       301.5, 302.8, 296.5, 301.2, 302.9, 302.7, 296.4, 304.2])"
      ]
     },
     "execution_count": 133,
     "metadata": {},
     "output_type": "execute_result"
    }
   ],
   "source": [
    "df['Air temperature [K]'].unique()"
   ]
  },
  {
   "cell_type": "code",
   "execution_count": 134,
   "id": "78ab7e20",
   "metadata": {},
   "outputs": [],
   "source": [
    "cols_to_clean = ['Process temperature [K]', 'Air temperature [K]']\n",
    "\n",
    "for col in cols_to_clean:\n",
    "    df[col] = df[col].round(1)\n",
    "    df[col] = df[col].apply(lambda x: float(f\"{x:.1f}\"))\n",
    "\n",
    "df.to_csv('cleaned.csv', index=False)\n",
    "df = pd.read_csv('cleaned.csv')\n"
   ]
  },
  {
   "cell_type": "code",
   "execution_count": 135,
   "id": "77e92406",
   "metadata": {},
   "outputs": [
    {
     "data": {
      "image/png": "[encoded data removed]",
      "text/plain": [
       "<Figure size 1200x600 with 1 Axes>"
      ]
     },
     "metadata": {},
     "output_type": "display_data"
    }
   ],
   "source": [
    "#vẽ biểu đồ kiểm tra outlier\n",
    "cols_plot = ['Process temperature [K]', 'Rotational speed [rpm]', 'Torque [Nm]', 'Tool wear [min]']\n",
    "\n",
    "plt.figure(figsize=(12, 6))\n",
    "sb.boxplot(data=df[cols_plot])\n",
    "plt.xticks(rotation=45)\n",
    "plt.title('Boxplot phát hiện outlier')\n",
    "plt.show()"
   ]
  },
  {
   "cell_type": "code",
   "execution_count": 136,
   "id": "158060d8",
   "metadata": {},
   "outputs": [],
   "source": [
    "df = pd.read_csv('cleaned.csv')\n",
    "\n",
    "#Capping outlier bằng IQR\n",
    "def cap_outliers(df, column):\n",
    "    Q1 = df[column].quantile(0.25)\n",
    "    Q3 = df[column].quantile(0.75)\n",
    "    IQR = Q3 - Q1\n",
    "    lower_bound = Q1 - 1.5 * IQR\n",
    "    upper_bound = Q3 + 1.5 * IQR\n",
    "    df[column] = df[column].clip(lower_bound, upper_bound)\n",
    "    return df\n",
    "\n",
    "cols_cap = ['Air temperature [K]', 'Process temperature [K]', \n",
    "            'Rotational speed [rpm]', 'Torque [Nm]', 'Tool wear [min]']\n",
    "for col in cols_cap:\n",
    "    df = cap_outliers(df, col)\n",
    "\n",
    "# Lưu dữ liệu đã clean\n",
    "df.to_csv('cleaned.csv', index=False)"
   ]
  },
  {
   "cell_type": "code",
   "execution_count": 137,
   "id": "34699aa5",
   "metadata": {},
   "outputs": [
    {
     "data": {
      "image/png": "[encoded data removed]",
      "text/plain": [
       "<Figure size 1200x600 with 1 Axes>"
      ]
     },
     "metadata": {},
     "output_type": "display_data"
    }
   ],
   "source": [
    "#vẽ biểu đồ kiểm tra outlier\n",
    "cols_plot = ['Process temperature [K]', 'Rotational speed [rpm]', 'Torque [Nm]', 'Tool wear [min]']\n",
    "\n",
    "plt.figure(figsize=(12, 6))\n",
    "sb.boxplot(data=df[cols_plot])\n",
    "plt.xticks(rotation=45)\n",
    "plt.title('Boxplot phát hiện outlier')\n",
    "plt.show()"
   ]
  }
 ],
 "metadata": {
  "kernelspec": {
   "display_name": "Python 3",
   "language": "python",
   "name": "python3"
  },
  "language_info": {
   "codemirror_mode": {
    "name": "ipython",
    "version": 3
   },
   "file_extension": ".py",
   "mimetype": "text/x-python",
   "name": "python",
   "nbconvert_exporter": "python",
   "pygments_lexer": "ipython3",
   "version": "3.13.1"
  }
 },
 "nbformat": 4,
 "nbformat_minor": 5
}
