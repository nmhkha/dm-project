{
 "cells": [
  {
   "cell_type": "code",
   "execution_count": 1,
   "id": "422b59c0",
   "metadata": {},
   "outputs": [],
   "source": [
    "import pandas as pd\n",
    "import numpy as np\n",
    "import matplotlib.pyplot as plt\n",
    "import seaborn as sns\n"
   ]
  },
  {
   "cell_type": "code",
   "execution_count": 2,
   "id": "4e2a1da4",
   "metadata": {},
   "outputs": [],
   "source": [
    "df = pd.read_csv(r\"D:\\DM\\Predictive maintenance\\ai4i2020.csv\")"
   ]
  },
  {
   "cell_type": "code",
   "execution_count": 3,
   "id": "a16db9d8",
   "metadata": {},
   "outputs": [],
   "source": [
    "df_sample = df.sample(n=500, random_state=42).reset_index(drop=True)\n"
   ]
  },
  {
   "cell_type": "code",
   "execution_count": 4,
   "id": "a7ad6403",
   "metadata": {},
   "outputs": [],
   "source": [
    "# Add missing value in numberic cols\n",
    "missing_cols = ['Air temperature [K]', 'Torque [Nm]', 'Process temperature [K]', 'Rotational speed [rpm]', 'Tool wear [min]']\n",
    "for col in missing_cols:\n",
    "    idx_missing = df_sample.sample(frac=0.08, random_state=42).index\n",
    "    df_sample.loc[idx_missing, col] = np.nan"
   ]
  },
  {
   "cell_type": "code",
   "execution_count": 5,
   "id": "fb2bbddb",
   "metadata": {},
   "outputs": [],
   "source": [
    "outlier_cols = ['Process temperature [K]', 'Rotational speed [rpm]', 'Tool wear [min]', 'Torque [Nm]']\n",
    "for col in outlier_cols:\n",
    "    idx_outliers = df.sample(frac=0.04, random_state=42).index\n",
    "    df.loc[idx_outliers, col] = df[col].max() * 2"
   ]
  },
  {
   "cell_type": "code",
   "execution_count": 6,
   "id": "258a783b",
   "metadata": {},
   "outputs": [],
   "source": [
    "# Thêm lỗi cột Type\n",
    "cat_error_idx = df_sample.sample(5, random_state=1).index\n",
    "df_sample.loc[cat_error_idx, 'Type'] = ['h', 'm', 'L ', '??', 'HIGH']\n"
   ]
  },
  {
   "cell_type": "code",
   "execution_count": 7,
   "id": "30eb6b36",
   "metadata": {},
   "outputs": [],
   "source": [
    "# Lưu file\n",
    "df_sample.to_csv(\"dirty_sample_500.csv\", index=False)\n",
    "\n"
   ]
  },
  {
   "cell_type": "code",
   "execution_count": 8,
   "id": "df38017d",
   "metadata": {},
   "outputs": [],
   "source": [
    "df1 = pd.read_csv('dirty_sample_500.csv')"
   ]
  },
  {
   "cell_type": "code",
   "execution_count": 9,
   "id": "dad33f9e",
   "metadata": {},
   "outputs": [
    {
     "data": {
      "text/html": [
       "<div>\n",
       "<style scoped>\n",
       "    .dataframe tbody tr th:only-of-type {\n",
       "        vertical-align: middle;\n",
       "    }\n",
       "\n",
       "    .dataframe tbody tr th {\n",
       "        vertical-align: top;\n",
       "    }\n",
       "\n",
       "    .dataframe thead th {\n",
       "        text-align: right;\n",
       "    }\n",
       "</style>\n",
       "<table border=\"1\" class=\"dataframe\">\n",
       "  <thead>\n",
       "    <tr style=\"text-align: right;\">\n",
       "      <th></th>\n",
       "      <th>UDI</th>\n",
       "      <th>Product ID</th>\n",
       "      <th>Type</th>\n",
       "      <th>Air temperature [K]</th>\n",
       "      <th>Process temperature [K]</th>\n",
       "      <th>Rotational speed [rpm]</th>\n",
       "      <th>Torque [Nm]</th>\n",
       "      <th>Tool wear [min]</th>\n",
       "      <th>Machine failure</th>\n",
       "      <th>TWF</th>\n",
       "      <th>HDF</th>\n",
       "      <th>PWF</th>\n",
       "      <th>OSF</th>\n",
       "      <th>RNF</th>\n",
       "    </tr>\n",
       "  </thead>\n",
       "  <tbody>\n",
       "    <tr>\n",
       "      <th>0</th>\n",
       "      <td>6253</td>\n",
       "      <td>L53432</td>\n",
       "      <td>L</td>\n",
       "      <td>300.8</td>\n",
       "      <td>310.3</td>\n",
       "      <td>1538.0</td>\n",
       "      <td>36.1</td>\n",
       "      <td>198.0</td>\n",
       "      <td>0</td>\n",
       "      <td>0</td>\n",
       "      <td>0</td>\n",
       "      <td>0</td>\n",
       "      <td>0</td>\n",
       "      <td>0</td>\n",
       "    </tr>\n",
       "    <tr>\n",
       "      <th>1</th>\n",
       "      <td>4685</td>\n",
       "      <td>M19544</td>\n",
       "      <td>M</td>\n",
       "      <td>303.6</td>\n",
       "      <td>311.8</td>\n",
       "      <td>1421.0</td>\n",
       "      <td>44.8</td>\n",
       "      <td>101.0</td>\n",
       "      <td>1</td>\n",
       "      <td>0</td>\n",
       "      <td>0</td>\n",
       "      <td>0</td>\n",
       "      <td>0</td>\n",
       "      <td>0</td>\n",
       "    </tr>\n",
       "    <tr>\n",
       "      <th>2</th>\n",
       "      <td>1732</td>\n",
       "      <td>M16591</td>\n",
       "      <td>M</td>\n",
       "      <td>NaN</td>\n",
       "      <td>NaN</td>\n",
       "      <td>NaN</td>\n",
       "      <td>NaN</td>\n",
       "      <td>NaN</td>\n",
       "      <td>0</td>\n",
       "      <td>0</td>\n",
       "      <td>0</td>\n",
       "      <td>0</td>\n",
       "      <td>0</td>\n",
       "      <td>0</td>\n",
       "    </tr>\n",
       "    <tr>\n",
       "      <th>3</th>\n",
       "      <td>4743</td>\n",
       "      <td>L51922</td>\n",
       "      <td>L</td>\n",
       "      <td>303.3</td>\n",
       "      <td>311.3</td>\n",
       "      <td>1592.0</td>\n",
       "      <td>33.7</td>\n",
       "      <td>14.0</td>\n",
       "      <td>0</td>\n",
       "      <td>0</td>\n",
       "      <td>0</td>\n",
       "      <td>0</td>\n",
       "      <td>0</td>\n",
       "      <td>0</td>\n",
       "    </tr>\n",
       "    <tr>\n",
       "      <th>4</th>\n",
       "      <td>4522</td>\n",
       "      <td>L51701</td>\n",
       "      <td>L</td>\n",
       "      <td>302.4</td>\n",
       "      <td>310.4</td>\n",
       "      <td>1865.0</td>\n",
       "      <td>23.9</td>\n",
       "      <td>129.0</td>\n",
       "      <td>0</td>\n",
       "      <td>0</td>\n",
       "      <td>0</td>\n",
       "      <td>0</td>\n",
       "      <td>0</td>\n",
       "      <td>0</td>\n",
       "    </tr>\n",
       "  </tbody>\n",
       "</table>\n",
       "</div>"
      ],
      "text/plain": [
       "    UDI Product ID Type  Air temperature [K]  Process temperature [K]  \\\n",
       "0  6253     L53432    L                300.8                    310.3   \n",
       "1  4685     M19544    M                303.6                    311.8   \n",
       "2  1732     M16591    M                  NaN                      NaN   \n",
       "3  4743     L51922    L                303.3                    311.3   \n",
       "4  4522     L51701    L                302.4                    310.4   \n",
       "\n",
       "   Rotational speed [rpm]  Torque [Nm]  Tool wear [min]  Machine failure  TWF  \\\n",
       "0                  1538.0         36.1            198.0                0    0   \n",
       "1                  1421.0         44.8            101.0                1    0   \n",
       "2                     NaN          NaN              NaN                0    0   \n",
       "3                  1592.0         33.7             14.0                0    0   \n",
       "4                  1865.0         23.9            129.0                0    0   \n",
       "\n",
       "   HDF  PWF  OSF  RNF  \n",
       "0    0    0    0    0  \n",
       "1    0    0    0    0  \n",
       "2    0    0    0    0  \n",
       "3    0    0    0    0  \n",
       "4    0    0    0    0  "
      ]
     },
     "execution_count": 9,
     "metadata": {},
     "output_type": "execute_result"
    }
   ],
   "source": [
    "df1.head()"
   ]
  },
  {
   "cell_type": "code",
   "execution_count": 10,
   "id": "7501dcae",
   "metadata": {},
   "outputs": [
    {
     "name": "stdout",
     "output_type": "stream",
     "text": [
      "<class 'pandas.core.frame.DataFrame'>\n",
      "RangeIndex: 500 entries, 0 to 499\n",
      "Data columns (total 14 columns):\n",
      " #   Column                   Non-Null Count  Dtype  \n",
      "---  ------                   --------------  -----  \n",
      " 0   UDI                      500 non-null    int64  \n",
      " 1   Product ID               500 non-null    object \n",
      " 2   Type                     500 non-null    object \n",
      " 3   Air temperature [K]      460 non-null    float64\n",
      " 4   Process temperature [K]  460 non-null    float64\n",
      " 5   Rotational speed [rpm]   460 non-null    float64\n",
      " 6   Torque [Nm]              460 non-null    float64\n",
      " 7   Tool wear [min]          460 non-null    float64\n",
      " 8   Machine failure          500 non-null    int64  \n",
      " 9   TWF                      500 non-null    int64  \n",
      " 10  HDF                      500 non-null    int64  \n",
      " 11  PWF                      500 non-null    int64  \n",
      " 12  OSF                      500 non-null    int64  \n",
      " 13  RNF                      500 non-null    int64  \n",
      "dtypes: float64(5), int64(7), object(2)\n",
      "memory usage: 54.8+ KB\n"
     ]
    }
   ],
   "source": [
    "df1.info()"
   ]
  },
  {
   "cell_type": "code",
   "execution_count": null,
   "id": "c55abe07",
   "metadata": {},
   "outputs": [],
   "source": []
  },
  {
   "cell_type": "code",
   "execution_count": 11,
   "id": "b2c5762a",
   "metadata": {},
   "outputs": [
    {
     "data": {
      "image/png": "[encoded data removed]",
      "text/plain": [
       "<Figure size 640x480 with 1 Axes>"
      ]
     },
     "metadata": {},
     "output_type": "display_data"
    },
    {
     "data": {
      "image/png": "[encoded data removed]",
      "text/plain": [
       "<Figure size 640x480 with 1 Axes>"
      ]
     },
     "metadata": {},
     "output_type": "display_data"
    }
   ],
   "source": [
    "import matplotlib.pyplot as plt\n",
    "\n",
    "sns.boxplot(x=df_sample['Air temperature [K]'])\n",
    "plt.title(\"Air Temperature with Outliers\")\n",
    "plt.show()\n",
    "\n",
    "sns.boxplot(x=df_sample['Torque [Nm]'])\n",
    "plt.title(\"Torque with Outliers\")\n",
    "plt.show()\n"
   ]
  },
  {
   "cell_type": "code",
   "execution_count": 12,
   "id": "f9e3cb5a",
   "metadata": {},
   "outputs": [
    {
     "name": "stdout",
     "output_type": "stream",
     "text": [
      "['L' 'M' 'H' 'L ' '??' 'h' 'm' 'HIGH']\n"
     ]
    }
   ],
   "source": [
    "print(df_sample['Type'].unique())\n"
   ]
  },
  {
   "cell_type": "code",
   "execution_count": 13,
   "id": "72b363fa",
   "metadata": {},
   "outputs": [
    {
     "data": {
      "text/plain": [
       "Type\n",
       "L       320\n",
       "M       133\n",
       "H        42\n",
       "L         1\n",
       "??        1\n",
       "h         1\n",
       "m         1\n",
       "HIGH      1\n",
       "Name: count, dtype: int64"
      ]
     },
     "execution_count": 13,
     "metadata": {},
     "output_type": "execute_result"
    }
   ],
   "source": [
    "df_sample['Type'].value_counts()"
   ]
  },
  {
   "cell_type": "code",
   "execution_count": 14,
   "id": "e004ba23",
   "metadata": {},
   "outputs": [
    {
     "name": "stdout",
     "output_type": "stream",
     "text": [
      "Machine failure\n",
      "0    0.9661\n",
      "1    0.0339\n",
      "Name: proportion, dtype: float64\n"
     ]
    }
   ],
   "source": [
    "print(df['Machine failure'].value_counts(normalize=True))"
   ]
  }
 ],
 "metadata": {
  "kernelspec": {
   "display_name": "Python 3",
   "language": "python",
   "name": "python3"
  },
  "language_info": {
   "codemirror_mode": {
    "name": "ipython",
    "version": 3
   },
   "file_extension": ".py",
   "mimetype": "text/x-python",
   "name": "python",
   "nbconvert_exporter": "python",
   "pygments_lexer": "ipython3",
   "version": "3.8.20"
  }
 },
 "nbformat": 4,
 "nbformat_minor": 5
}
