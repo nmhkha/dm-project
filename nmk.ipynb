{
 "cells": [
  {
   "cell_type": "code",
   "execution_count": 1,
   "id": "422b59c0",
   "metadata": {},
   "outputs": [],
   "source": [
    "import pandas as pd\n",
    "import numpy as np\n",
    "import matplotlib.pyplot as plt\n",
    "import seaborn as sns\n"
   ]
  },
  {
   "cell_type": "code",
   "execution_count": 3,
   "id": "4e2a1da4",
   "metadata": {},
   "outputs": [],
   "source": [
    "df = pd.read_csv(r\"D:\\DM\\Predictive maintenance\\ai4i2020.csv\")"
   ]
  },
  {
   "cell_type": "code",
   "execution_count": 4,
   "id": "a16db9d8",
   "metadata": {},
   "outputs": [],
   "source": [
    "df_sample = df.sample(n=500, random_state=42).reset_index(drop=True)\n"
   ]
  },
  {
   "cell_type": "code",
   "execution_count": 5,
   "id": "a7ad6403",
   "metadata": {},
   "outputs": [],
   "source": [
    "# Add missing value in numberic cols\n",
    "missing_cols = ['Air temperature [K]', 'Torque [Nm]']\n",
    "for col in missing_cols:\n",
    "    idx_missing = df_sample.sample(frac=0.05, random_state=42).index\n",
    "    df_sample.loc[idx_missing, col] = np.nan"
   ]
  },
  {
   "cell_type": "code",
   "execution_count": 6,
   "id": "fb2bbddb",
   "metadata": {},
   "outputs": [],
   "source": [
    "# Chọn 5 dòng ngẫu nhiên để thêm outliers\n",
    "outlier_idx = df_sample.sample(5, random_state=42).index\n",
    "\n",
    "# Air temperature tăng gấp 3 lần max\n",
    "df_sample.loc[outlier_idx, 'Air temperature [K]'] = df_sample['Air temperature [K]'].max() * 3\n",
    "\n",
    "# Torque giảm xuống 1/5 min\n",
    "df_sample.loc[outlier_idx, 'Torque [Nm]'] = df_sample['Torque [Nm]'].min() / 5\n"
   ]
  },
  {
   "cell_type": "code",
   "execution_count": null,
   "id": "258a783b",
   "metadata": {},
   "outputs": [],
   "source": [
    "# Thêm lỗi cột Type\n",
    "cat_error_idx = df_sample.sample(5, random_state=1).index\n",
    "df_sample.loc[cat_error_idx, 'Type'] = ['h', 'm', 'L ', '??', 'HIGH']\n"
   ]
  },
  {
   "cell_type": "code",
   "execution_count": 2,
   "id": "30eb6b36",
   "metadata": {},
   "outputs": [
    {
     "ename": "NameError",
     "evalue": "name 'df_sample' is not defined",
     "output_type": "error",
     "traceback": [
      "\u001b[1;31m---------------------------------------------------------------------------\u001b[0m",
      "\u001b[1;31mNameError\u001b[0m                                 Traceback (most recent call last)",
      "Cell \u001b[1;32mIn[2], line 2\u001b[0m\n\u001b[0;32m      1\u001b[0m \u001b[38;5;66;03m# Lưu file\u001b[39;00m\n\u001b[1;32m----> 2\u001b[0m \u001b[43mdf_sample\u001b[49m\u001b[38;5;241m.\u001b[39mto_csv(\u001b[38;5;124m\"\u001b[39m\u001b[38;5;124mdirty_sample_500.csv\u001b[39m\u001b[38;5;124m\"\u001b[39m, index\u001b[38;5;241m=\u001b[39m\u001b[38;5;28;01mFalse\u001b[39;00m)\n",
      "\u001b[1;31mNameError\u001b[0m: name 'df_sample' is not defined"
     ]
    }
   ],
   "source": [
    "# Lưu file\n",
    "df_sample.to_csv(\"dirty_sample_500.csv\", index=False)\n",
    "\n"
   ]
  },
  {
   "cell_type": "code",
   "execution_count": 9,
   "id": "bafe8542",
   "metadata": {},
   "outputs": [],
   "source": [
    "df1 = pd.read_csv('dirty_sample_500.csv')"
   ]
  },
  {
   "cell_type": "code",
   "execution_count": 10,
   "id": "3a8bf2dc",
   "metadata": {},
   "outputs": [
    {
     "data": {
      "text/html": [
       "<div>\n",
       "<style scoped>\n",
       "    .dataframe tbody tr th:only-of-type {\n",
       "        vertical-align: middle;\n",
       "    }\n",
       "\n",
       "    .dataframe tbody tr th {\n",
       "        vertical-align: top;\n",
       "    }\n",
       "\n",
       "    .dataframe thead th {\n",
       "        text-align: right;\n",
       "    }\n",
       "</style>\n",
       "<table border=\"1\" class=\"dataframe\">\n",
       "  <thead>\n",
       "    <tr style=\"text-align: right;\">\n",
       "      <th></th>\n",
       "      <th>UDI</th>\n",
       "      <th>Product ID</th>\n",
       "      <th>Type</th>\n",
       "      <th>Air temperature [K]</th>\n",
       "      <th>Process temperature [K]</th>\n",
       "      <th>Rotational speed [rpm]</th>\n",
       "      <th>Torque [Nm]</th>\n",
       "      <th>Tool wear [min]</th>\n",
       "      <th>Machine failure</th>\n",
       "      <th>TWF</th>\n",
       "      <th>HDF</th>\n",
       "      <th>PWF</th>\n",
       "      <th>OSF</th>\n",
       "      <th>RNF</th>\n",
       "    </tr>\n",
       "  </thead>\n",
       "  <tbody>\n",
       "    <tr>\n",
       "      <th>0</th>\n",
       "      <td>6253</td>\n",
       "      <td>L53432</td>\n",
       "      <td>L</td>\n",
       "      <td>300.8</td>\n",
       "      <td>310.3</td>\n",
       "      <td>1538</td>\n",
       "      <td>36.1</td>\n",
       "      <td>198</td>\n",
       "      <td>0</td>\n",
       "      <td>0</td>\n",
       "      <td>0</td>\n",
       "      <td>0</td>\n",
       "      <td>0</td>\n",
       "      <td>0</td>\n",
       "    </tr>\n",
       "    <tr>\n",
       "      <th>1</th>\n",
       "      <td>4685</td>\n",
       "      <td>M19544</td>\n",
       "      <td>M</td>\n",
       "      <td>303.6</td>\n",
       "      <td>311.8</td>\n",
       "      <td>1421</td>\n",
       "      <td>44.8</td>\n",
       "      <td>101</td>\n",
       "      <td>1</td>\n",
       "      <td>0</td>\n",
       "      <td>0</td>\n",
       "      <td>0</td>\n",
       "      <td>0</td>\n",
       "      <td>0</td>\n",
       "    </tr>\n",
       "    <tr>\n",
       "      <th>2</th>\n",
       "      <td>1732</td>\n",
       "      <td>M16591</td>\n",
       "      <td>M</td>\n",
       "      <td>298.3</td>\n",
       "      <td>307.9</td>\n",
       "      <td>1485</td>\n",
       "      <td>42.0</td>\n",
       "      <td>117</td>\n",
       "      <td>0</td>\n",
       "      <td>0</td>\n",
       "      <td>0</td>\n",
       "      <td>0</td>\n",
       "      <td>0</td>\n",
       "      <td>0</td>\n",
       "    </tr>\n",
       "    <tr>\n",
       "      <th>3</th>\n",
       "      <td>4743</td>\n",
       "      <td>L51922</td>\n",
       "      <td>L</td>\n",
       "      <td>303.3</td>\n",
       "      <td>311.3</td>\n",
       "      <td>1592</td>\n",
       "      <td>33.7</td>\n",
       "      <td>14</td>\n",
       "      <td>0</td>\n",
       "      <td>0</td>\n",
       "      <td>0</td>\n",
       "      <td>0</td>\n",
       "      <td>0</td>\n",
       "      <td>0</td>\n",
       "    </tr>\n",
       "    <tr>\n",
       "      <th>4</th>\n",
       "      <td>4522</td>\n",
       "      <td>L51701</td>\n",
       "      <td>L</td>\n",
       "      <td>302.4</td>\n",
       "      <td>310.4</td>\n",
       "      <td>1865</td>\n",
       "      <td>23.9</td>\n",
       "      <td>129</td>\n",
       "      <td>0</td>\n",
       "      <td>0</td>\n",
       "      <td>0</td>\n",
       "      <td>0</td>\n",
       "      <td>0</td>\n",
       "      <td>0</td>\n",
       "    </tr>\n",
       "  </tbody>\n",
       "</table>\n",
       "</div>"
      ],
      "text/plain": [
       "    UDI Product ID Type  Air temperature [K]  Process temperature [K]  \\\n",
       "0  6253     L53432    L                300.8                    310.3   \n",
       "1  4685     M19544    M                303.6                    311.8   \n",
       "2  1732     M16591    M                298.3                    307.9   \n",
       "3  4743     L51922    L                303.3                    311.3   \n",
       "4  4522     L51701    L                302.4                    310.4   \n",
       "\n",
       "   Rotational speed [rpm]  Torque [Nm]  Tool wear [min]  Machine failure  TWF  \\\n",
       "0                    1538         36.1              198                0    0   \n",
       "1                    1421         44.8              101                1    0   \n",
       "2                    1485         42.0              117                0    0   \n",
       "3                    1592         33.7               14                0    0   \n",
       "4                    1865         23.9              129                0    0   \n",
       "\n",
       "   HDF  PWF  OSF  RNF  \n",
       "0    0    0    0    0  \n",
       "1    0    0    0    0  \n",
       "2    0    0    0    0  \n",
       "3    0    0    0    0  \n",
       "4    0    0    0    0  "
      ]
     },
     "execution_count": 10,
     "metadata": {},
     "output_type": "execute_result"
    }
   ],
   "source": [
    "df1.head()"
   ]
  },
  {
   "cell_type": "code",
   "execution_count": 11,
   "id": "7bf1f0a6",
   "metadata": {},
   "outputs": [
    {
     "data": {
      "text/plain": [
       "UDI                         0\n",
       "Product ID                  0\n",
       "Type                        0\n",
       "Air temperature [K]        20\n",
       "Process temperature [K]     0\n",
       "Rotational speed [rpm]      0\n",
       "Torque [Nm]                20\n",
       "Tool wear [min]             0\n",
       "Machine failure             0\n",
       "TWF                         0\n",
       "HDF                         0\n",
       "PWF                         0\n",
       "OSF                         0\n",
       "RNF                         0\n",
       "dtype: int64"
      ]
     },
     "execution_count": 11,
     "metadata": {},
     "output_type": "execute_result"
    }
   ],
   "source": [
    "df1.isnull().sum()\n"
   ]
  },
  {
   "cell_type": "code",
   "execution_count": null,
   "id": "68f05b10",
   "metadata": {},
   "outputs": [
    {
     "data": {
      "text/plain": [
       "Index(['UDI', 'Product ID', 'Type', 'Air temperature [K]',\n",
       "       'Process temperature [K]', 'Rotational speed [rpm]', 'Torque [Nm]',\n",
       "       'Tool wear [min]', 'Machine failure', 'TWF', 'HDF', 'PWF', 'OSF',\n",
       "       'RNF'],\n",
       "      dtype='object')"
      ]
     },
     "execution_count": 12,
     "metadata": {},
     "output_type": "execute_result"
    }
   ],
   "source": [
    "df1.columns()"
   ]
  },
  {
   "cell_type": "code",
   "execution_count": 14,
   "id": "917939c3",
   "metadata": {},
   "outputs": [
    {
     "data": {
      "text/html": [
       "<div>\n",
       "<style scoped>\n",
       "    .dataframe tbody tr th:only-of-type {\n",
       "        vertical-align: middle;\n",
       "    }\n",
       "\n",
       "    .dataframe tbody tr th {\n",
       "        vertical-align: top;\n",
       "    }\n",
       "\n",
       "    .dataframe thead th {\n",
       "        text-align: right;\n",
       "    }\n",
       "</style>\n",
       "<table border=\"1\" class=\"dataframe\">\n",
       "  <thead>\n",
       "    <tr style=\"text-align: right;\">\n",
       "      <th></th>\n",
       "      <th>UDI</th>\n",
       "      <th>Air temperature [K]</th>\n",
       "      <th>Process temperature [K]</th>\n",
       "      <th>Rotational speed [rpm]</th>\n",
       "      <th>Torque [Nm]</th>\n",
       "      <th>Tool wear [min]</th>\n",
       "      <th>Machine failure</th>\n",
       "      <th>TWF</th>\n",
       "      <th>HDF</th>\n",
       "      <th>PWF</th>\n",
       "      <th>OSF</th>\n",
       "      <th>RNF</th>\n",
       "    </tr>\n",
       "  </thead>\n",
       "  <tbody>\n",
       "    <tr>\n",
       "      <th>count</th>\n",
       "      <td>500.000000</td>\n",
       "      <td>480.000000</td>\n",
       "      <td>500.000000</td>\n",
       "      <td>500.000000</td>\n",
       "      <td>480.000000</td>\n",
       "      <td>500.000000</td>\n",
       "      <td>500.000000</td>\n",
       "      <td>500.000000</td>\n",
       "      <td>500.000000</td>\n",
       "      <td>500.000000</td>\n",
       "      <td>500.000000</td>\n",
       "      <td>500.0</td>\n",
       "    </tr>\n",
       "    <tr>\n",
       "      <th>mean</th>\n",
       "      <td>4974.786000</td>\n",
       "      <td>306.408542</td>\n",
       "      <td>310.094200</td>\n",
       "      <td>1529.862000</td>\n",
       "      <td>39.969583</td>\n",
       "      <td>105.394000</td>\n",
       "      <td>0.034000</td>\n",
       "      <td>0.008000</td>\n",
       "      <td>0.012000</td>\n",
       "      <td>0.008000</td>\n",
       "      <td>0.006000</td>\n",
       "      <td>0.0</td>\n",
       "    </tr>\n",
       "    <tr>\n",
       "      <th>std</th>\n",
       "      <td>2871.641071</td>\n",
       "      <td>62.289239</td>\n",
       "      <td>1.430048</td>\n",
       "      <td>159.219146</td>\n",
       "      <td>10.094236</td>\n",
       "      <td>64.966515</td>\n",
       "      <td>0.181411</td>\n",
       "      <td>0.089173</td>\n",
       "      <td>0.108994</td>\n",
       "      <td>0.089173</td>\n",
       "      <td>0.077304</td>\n",
       "      <td>0.0</td>\n",
       "    </tr>\n",
       "    <tr>\n",
       "      <th>min</th>\n",
       "      <td>4.000000</td>\n",
       "      <td>295.500000</td>\n",
       "      <td>306.200000</td>\n",
       "      <td>1251.000000</td>\n",
       "      <td>2.600000</td>\n",
       "      <td>0.000000</td>\n",
       "      <td>0.000000</td>\n",
       "      <td>0.000000</td>\n",
       "      <td>0.000000</td>\n",
       "      <td>0.000000</td>\n",
       "      <td>0.000000</td>\n",
       "      <td>0.0</td>\n",
       "    </tr>\n",
       "    <tr>\n",
       "      <th>25%</th>\n",
       "      <td>2605.750000</td>\n",
       "      <td>298.500000</td>\n",
       "      <td>308.900000</td>\n",
       "      <td>1433.000000</td>\n",
       "      <td>34.175000</td>\n",
       "      <td>47.750000</td>\n",
       "      <td>0.000000</td>\n",
       "      <td>0.000000</td>\n",
       "      <td>0.000000</td>\n",
       "      <td>0.000000</td>\n",
       "      <td>0.000000</td>\n",
       "      <td>0.0</td>\n",
       "    </tr>\n",
       "    <tr>\n",
       "      <th>50%</th>\n",
       "      <td>5076.000000</td>\n",
       "      <td>300.100000</td>\n",
       "      <td>310.100000</td>\n",
       "      <td>1495.000000</td>\n",
       "      <td>40.450000</td>\n",
       "      <td>103.000000</td>\n",
       "      <td>0.000000</td>\n",
       "      <td>0.000000</td>\n",
       "      <td>0.000000</td>\n",
       "      <td>0.000000</td>\n",
       "      <td>0.000000</td>\n",
       "      <td>0.0</td>\n",
       "    </tr>\n",
       "    <tr>\n",
       "      <th>75%</th>\n",
       "      <td>7513.500000</td>\n",
       "      <td>301.600000</td>\n",
       "      <td>311.200000</td>\n",
       "      <td>1593.000000</td>\n",
       "      <td>47.025000</td>\n",
       "      <td>160.000000</td>\n",
       "      <td>0.000000</td>\n",
       "      <td>0.000000</td>\n",
       "      <td>0.000000</td>\n",
       "      <td>0.000000</td>\n",
       "      <td>0.000000</td>\n",
       "      <td>0.0</td>\n",
       "    </tr>\n",
       "    <tr>\n",
       "      <th>max</th>\n",
       "      <td>9931.000000</td>\n",
       "      <td>912.600000</td>\n",
       "      <td>313.500000</td>\n",
       "      <td>2549.000000</td>\n",
       "      <td>68.600000</td>\n",
       "      <td>231.000000</td>\n",
       "      <td>1.000000</td>\n",
       "      <td>1.000000</td>\n",
       "      <td>1.000000</td>\n",
       "      <td>1.000000</td>\n",
       "      <td>1.000000</td>\n",
       "      <td>0.0</td>\n",
       "    </tr>\n",
       "  </tbody>\n",
       "</table>\n",
       "</div>"
      ],
      "text/plain": [
       "               UDI  Air temperature [K]  Process temperature [K]  \\\n",
       "count   500.000000           480.000000               500.000000   \n",
       "mean   4974.786000           306.408542               310.094200   \n",
       "std    2871.641071            62.289239                 1.430048   \n",
       "min       4.000000           295.500000               306.200000   \n",
       "25%    2605.750000           298.500000               308.900000   \n",
       "50%    5076.000000           300.100000               310.100000   \n",
       "75%    7513.500000           301.600000               311.200000   \n",
       "max    9931.000000           912.600000               313.500000   \n",
       "\n",
       "       Rotational speed [rpm]  Torque [Nm]  Tool wear [min]  Machine failure  \\\n",
       "count              500.000000   480.000000       500.000000       500.000000   \n",
       "mean              1529.862000    39.969583       105.394000         0.034000   \n",
       "std                159.219146    10.094236        64.966515         0.181411   \n",
       "min               1251.000000     2.600000         0.000000         0.000000   \n",
       "25%               1433.000000    34.175000        47.750000         0.000000   \n",
       "50%               1495.000000    40.450000       103.000000         0.000000   \n",
       "75%               1593.000000    47.025000       160.000000         0.000000   \n",
       "max               2549.000000    68.600000       231.000000         1.000000   \n",
       "\n",
       "              TWF         HDF         PWF         OSF    RNF  \n",
       "count  500.000000  500.000000  500.000000  500.000000  500.0  \n",
       "mean     0.008000    0.012000    0.008000    0.006000    0.0  \n",
       "std      0.089173    0.108994    0.089173    0.077304    0.0  \n",
       "min      0.000000    0.000000    0.000000    0.000000    0.0  \n",
       "25%      0.000000    0.000000    0.000000    0.000000    0.0  \n",
       "50%      0.000000    0.000000    0.000000    0.000000    0.0  \n",
       "75%      0.000000    0.000000    0.000000    0.000000    0.0  \n",
       "max      1.000000    1.000000    1.000000    1.000000    0.0  "
      ]
     },
     "execution_count": 14,
     "metadata": {},
     "output_type": "execute_result"
    }
   ],
   "source": [
    "df1.describe()"
   ]
  },
  {
   "cell_type": "code",
   "execution_count": 15,
   "id": "7fcd50d3",
   "metadata": {},
   "outputs": [
    {
     "name": "stdout",
     "output_type": "stream",
     "text": [
      "       Air temperature [K]  Torque [Nm]\n",
      "count           480.000000   480.000000\n",
      "mean            306.408542    39.969583\n",
      "std              62.289239    10.094236\n",
      "min             295.500000     2.600000\n",
      "25%             298.500000    34.175000\n",
      "50%             300.100000    40.450000\n",
      "75%             301.600000    47.025000\n",
      "max             912.600000    68.600000\n"
     ]
    }
   ],
   "source": [
    "print(df_sample[['Air temperature [K]', 'Torque [Nm]']].describe())"
   ]
  },
  {
   "cell_type": "code",
   "execution_count": 16,
   "id": "b2c5762a",
   "metadata": {},
   "outputs": [
    {
     "data": {
      "image/png": "[encoded data removed]",
      "text/plain": [
       "<Figure size 640x480 with 1 Axes>"
      ]
     },
     "metadata": {},
     "output_type": "display_data"
    },
    {
     "data": {
      "image/png": "[encoded data removed]",
      "text/plain": [
       "<Figure size 640x480 with 1 Axes>"
      ]
     },
     "metadata": {},
     "output_type": "display_data"
    }
   ],
   "source": [
    "import seaborn as sns\n",
    "import matplotlib.pyplot as plt\n",
    "\n",
    "sns.boxplot(x=df_sample['Air temperature [K]'])\n",
    "plt.title(\"Air Temperature with Outliers\")\n",
    "plt.show()\n",
    "\n",
    "sns.boxplot(x=df_sample['Torque [Nm]'])\n",
    "plt.title(\"Torque with Outliers\")\n",
    "plt.show()\n"
   ]
  },
  {
   "cell_type": "code",
   "execution_count": 17,
   "id": "f9e3cb5a",
   "metadata": {},
   "outputs": [
    {
     "name": "stdout",
     "output_type": "stream",
     "text": [
      "['L' 'M' 'H' 'L ' '??' 'h' 'm' 'HIGH']\n"
     ]
    }
   ],
   "source": [
    "print(df_sample['Type'].unique())\n"
   ]
  },
  {
   "cell_type": "code",
   "execution_count": 18,
   "id": "72b363fa",
   "metadata": {},
   "outputs": [
    {
     "data": {
      "text/plain": [
       "Type\n",
       "L       320\n",
       "M       133\n",
       "H        42\n",
       "L         1\n",
       "??        1\n",
       "h         1\n",
       "m         1\n",
       "HIGH      1\n",
       "Name: count, dtype: int64"
      ]
     },
     "execution_count": 18,
     "metadata": {},
     "output_type": "execute_result"
    }
   ],
   "source": [
    "df_sample['Type'].value_counts()"
   ]
  },
  {
   "cell_type": "code",
   "execution_count": 13,
   "id": "e004ba23",
   "metadata": {},
   "outputs": [
    {
     "name": "stdout",
     "output_type": "stream",
     "text": [
      "Machine failure\n",
      "0    0.9661\n",
      "1    0.0339\n",
      "Name: proportion, dtype: float64\n"
     ]
    }
   ],
   "source": [
    "print(df['Machine failure'].value_counts(normalize=True))"
   ]
  }
 ],
 "metadata": {
  "kernelspec": {
   "display_name": "Python 3",
   "language": "python",
   "name": "python3"
  },
  "language_info": {
   "codemirror_mode": {
    "name": "ipython",
    "version": 3
   },
   "file_extension": ".py",
   "mimetype": "text/x-python",
   "name": "python",
   "nbconvert_exporter": "python",
   "pygments_lexer": "ipython3",
   "version": "3.8.20"
  }
 },
 "nbformat": 4,
 "nbformat_minor": 5
}
