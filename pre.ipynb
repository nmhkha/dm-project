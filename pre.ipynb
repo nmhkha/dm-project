{
 "cells": [
  {
   "cell_type": "code",
   "execution_count": 1,
   "id": "42c4b346",
   "metadata": {},
   "outputs": [],
   "source": [
    "import pandas as pd\n",
    "import numpy as np\n",
    "import matplotlib.pyplot as plt\n",
    "import seaborn as snd"
   ]
  },
  {
   "cell_type": "code",
   "execution_count": 2,
   "id": "77e7c974",
   "metadata": {},
   "outputs": [],
   "source": [
    "df = pd.read_csv('predictive_maintenance_dirty_dataset.csv')"
   ]
  },
  {
   "cell_type": "code",
   "execution_count": 4,
   "id": "5fcc9bd6",
   "metadata": {},
   "outputs": [
    {
     "data": {
      "text/plain": [
       "(305, 7)"
      ]
     },
     "execution_count": 4,
     "metadata": {},
     "output_type": "execute_result"
    }
   ],
   "source": [
    "df.shape"
   ]
  },
  {
   "cell_type": "code",
   "execution_count": 5,
   "id": "5e90d140",
   "metadata": {},
   "outputs": [
    {
     "data": {
      "text/html": [
       "<div>\n",
       "<style scoped>\n",
       "    .dataframe tbody tr th:only-of-type {\n",
       "        vertical-align: middle;\n",
       "    }\n",
       "\n",
       "    .dataframe tbody tr th {\n",
       "        vertical-align: top;\n",
       "    }\n",
       "\n",
       "    .dataframe thead th {\n",
       "        text-align: right;\n",
       "    }\n",
       "</style>\n",
       "<table border=\"1\" class=\"dataframe\">\n",
       "  <thead>\n",
       "    <tr style=\"text-align: right;\">\n",
       "      <th></th>\n",
       "      <th>Timestamp</th>\n",
       "      <th>Machine_ID</th>\n",
       "      <th>Temperature</th>\n",
       "      <th>Vibration</th>\n",
       "      <th>Pressure</th>\n",
       "      <th>Rotation_Speed</th>\n",
       "      <th>Failure</th>\n",
       "    </tr>\n",
       "  </thead>\n",
       "  <tbody>\n",
       "    <tr>\n",
       "      <th>0</th>\n",
       "      <td>2025-08-01 00:33:00</td>\n",
       "      <td>PUMP_003</td>\n",
       "      <td>47.2 C</td>\n",
       "      <td>~2.26</td>\n",
       "      <td>314.738608</td>\n",
       "      <td>1534.211253</td>\n",
       "      <td>0</td>\n",
       "    </tr>\n",
       "    <tr>\n",
       "      <th>1</th>\n",
       "      <td>2025-08-01 01:08:00</td>\n",
       "      <td>PUMP_003</td>\n",
       "      <td>57.896064077536955</td>\n",
       "      <td>2.3837173645764542</td>\n",
       "      <td>NaN</td>\n",
       "      <td>NaN</td>\n",
       "      <td>0</td>\n",
       "    </tr>\n",
       "    <tr>\n",
       "      <th>2</th>\n",
       "      <td>2025-08-01 02:04:00</td>\n",
       "      <td>pump-001</td>\n",
       "      <td>51.20981135783017</td>\n",
       "      <td>1.043359877671101</td>\n",
       "      <td>292.750822</td>\n",
       "      <td>1485.942812</td>\n",
       "      <td>False</td>\n",
       "    </tr>\n",
       "    <tr>\n",
       "      <th>3</th>\n",
       "      <td>2025-08-01 03:02:00</td>\n",
       "      <td>PUMP_004</td>\n",
       "      <td>45.45987962239394</td>\n",
       "      <td>1.2938481493323541</td>\n",
       "      <td>324.656488</td>\n",
       "      <td>1494.355592</td>\n",
       "      <td>0</td>\n",
       "    </tr>\n",
       "    <tr>\n",
       "      <th>4</th>\n",
       "      <td>2025-08-01 03:25:00</td>\n",
       "      <td>PUMP_003</td>\n",
       "      <td>49.87772411252967</td>\n",
       "      <td>2.1777756585612162</td>\n",
       "      <td>314.170111</td>\n",
       "      <td>1520.811546</td>\n",
       "      <td>0</td>\n",
       "    </tr>\n",
       "  </tbody>\n",
       "</table>\n",
       "</div>"
      ],
      "text/plain": [
       "             Timestamp Machine_ID         Temperature           Vibration  \\\n",
       "0  2025-08-01 00:33:00   PUMP_003              47.2 C               ~2.26   \n",
       "1  2025-08-01 01:08:00   PUMP_003  57.896064077536955  2.3837173645764542   \n",
       "2  2025-08-01 02:04:00   pump-001   51.20981135783017   1.043359877671101   \n",
       "3  2025-08-01 03:02:00   PUMP_004   45.45987962239394  1.2938481493323541   \n",
       "4  2025-08-01 03:25:00   PUMP_003   49.87772411252967  2.1777756585612162   \n",
       "\n",
       "     Pressure  Rotation_Speed Failure  \n",
       "0  314.738608     1534.211253       0  \n",
       "1         NaN             NaN       0  \n",
       "2  292.750822     1485.942812   False  \n",
       "3  324.656488     1494.355592       0  \n",
       "4  314.170111     1520.811546       0  "
      ]
     },
     "execution_count": 5,
     "metadata": {},
     "output_type": "execute_result"
    }
   ],
   "source": [
    "df.head()"
   ]
  },
  {
   "cell_type": "code",
   "execution_count": 6,
   "id": "4f576b59",
   "metadata": {},
   "outputs": [
    {
     "data": {
      "text/plain": [
       "Timestamp          0\n",
       "Machine_ID         0\n",
       "Temperature       29\n",
       "Vibration         30\n",
       "Pressure          30\n",
       "Rotation_Speed    30\n",
       "Failure            0\n",
       "dtype: int64"
      ]
     },
     "execution_count": 6,
     "metadata": {},
     "output_type": "execute_result"
    }
   ],
   "source": [
    "df.isnull().sum()"
   ]
  },
  {
   "cell_type": "code",
   "execution_count": 7,
   "id": "8cd9d180",
   "metadata": {},
   "outputs": [
    {
     "data": {
      "text/plain": [
       "array(['PUMP_003', 'pump-001', 'PUMP_004', 'Pump_002'], dtype=object)"
      ]
     },
     "execution_count": 7,
     "metadata": {},
     "output_type": "execute_result"
    }
   ],
   "source": [
    "df['Machine_ID'].unique()"
   ]
  },
  {
   "cell_type": "code",
   "execution_count": 10,
   "id": "0059882e",
   "metadata": {},
   "outputs": [
    {
     "data": {
      "text/plain": [
       "False    300\n",
       "True       5\n",
       "Name: count, dtype: int64"
      ]
     },
     "execution_count": 10,
     "metadata": {},
     "output_type": "execute_result"
    }
   ],
   "source": [
    "df.duplicated().value_counts()"
   ]
  }
 ],
 "metadata": {
  "kernelspec": {
   "display_name": "Python 3",
   "language": "python",
   "name": "python3"
  },
  "language_info": {
   "codemirror_mode": {
    "name": "ipython",
    "version": 3
   },
   "file_extension": ".py",
   "mimetype": "text/x-python",
   "name": "python",
   "nbconvert_exporter": "python",
   "pygments_lexer": "ipython3",
   "version": "3.8.20"
  }
 },
 "nbformat": 4,
 "nbformat_minor": 5
}
